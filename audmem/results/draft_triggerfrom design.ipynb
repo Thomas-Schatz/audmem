{
 "cells": [
  {
   "cell_type": "code",
   "execution_count": 16,
   "metadata": {},
   "outputs": [
    {
     "data": {
      "text/plain": [
       "'get triggers rel to beginning\\ntriggers are in fact present at each noise end (from 0 to 1)'"
      ]
     },
     "execution_count": 16,
     "metadata": {},
     "output_type": "execute_result"
    }
   ],
   "source": [
    "import numpy as np\n",
    "import os\n",
    "\"\"\"get triggers rel to beginning\n",
    "triggers are in fact present at each noise end (from 0 to 1)\"\"\""
   ]
  },
  {
   "cell_type": "code",
   "execution_count": 17,
   "metadata": {},
   "outputs": [],
   "source": [
    "datadir = \"/Users/duyckmf/Dropbox/audmem/20191210_Marianne/stims\"\n",
    "fn = '2019-12-10-18-23-57_seed200_design.txt'\n",
    "\n",
    "datfn = os.path.join(datadir, fn)"
   ]
  },
  {
   "cell_type": "code",
   "execution_count": 18,
   "metadata": {},
   "outputs": [],
   "source": [
    "def _getTriggersFromDesign(file_path):\n",
    "    import pandas as pd\n",
    "    \"\"\"\n",
    "    Gets array of timing of triggers in s relative to beginning of the block (using 'ID_design.txt' file)\n",
    "    As a reminder, triggers are in fact present at the end of each noise end \n",
    "    (transition from 0 to 1 - from noise to silence) of the indicator.wav audio file\n",
    "    \"\"\"\n",
    "    dat = pd.io.parsers.read_csv(file_path, sep='\\t')\n",
    "    triggers = np.insert(np.cumsum(dat[\"dur\"].values)[dat[\"cond\"] != 'silence'], 0, 0)\n",
    "    print(\"%d triggers from design: \"%(len(triggers)))\n",
    "    return triggers"
   ]
  },
  {
   "cell_type": "code",
   "execution_count": 19,
   "metadata": {},
   "outputs": [
    {
     "name": "stdout",
     "output_type": "stream",
     "text": [
      "65 triggers from design: \n"
     ]
    },
    {
     "data": {
      "text/plain": [
       "array([  0.        ,   5.31421769,  10.11351474,  15.38226757,\n",
       "        20.02748299,  24.84331066,  29.66419501,  34.54231293,\n",
       "        39.37045351,  44.45263039,  49.7239229 ,  54.43741497,\n",
       "        59.35258503,  64.83721088,  69.81106576,  75.12126984,\n",
       "        79.79122449,  84.57278912,  89.98274376,  94.62539683,\n",
       "       100.08464853, 105.3430839 , 110.80090703, 115.3899093 ,\n",
       "       119.96773243, 125.04755102, 130.24013605, 135.06079365,\n",
       "       140.0700907 , 145.1924263 , 150.44918367, 155.1454195 ,\n",
       "       160.40646259, 164.9547619 , 169.88126984, 174.42206349,\n",
       "       179.6837415 , 184.74496599, 190.15006803, 194.98535147,\n",
       "       200.16099773, 204.69746032, 210.13537415, 214.9007483 ,\n",
       "       219.81678005, 224.79439909, 229.56478458, 235.03      ,\n",
       "       239.66444444, 244.78126984, 249.90988662, 255.35605442,\n",
       "       259.96131519, 265.07863946, 270.05426304, 275.19213152,\n",
       "       280.68927438, 285.45090703, 290.59605442, 295.97321995,\n",
       "       301.06807256, 305.78344671, 310.96575964, 315.61537415,\n",
       "       320.46260771])"
      ]
     },
     "execution_count": 19,
     "metadata": {},
     "output_type": "execute_result"
    }
   ],
   "source": [
    "_getTriggersFromDesign(datfn)"
   ]
  },
  {
   "cell_type": "code",
   "execution_count": null,
   "metadata": {},
   "outputs": [],
   "source": []
  }
 ],
 "metadata": {
  "kernelspec": {
   "display_name": "Python 2",
   "language": "python",
   "name": "python2"
  },
  "language_info": {
   "codemirror_mode": {
    "name": "ipython",
    "version": 2
   },
   "file_extension": ".py",
   "mimetype": "text/x-python",
   "name": "python",
   "nbconvert_exporter": "python",
   "pygments_lexer": "ipython2",
   "version": "2.7.15"
  }
 },
 "nbformat": 4,
 "nbformat_minor": 4
}
